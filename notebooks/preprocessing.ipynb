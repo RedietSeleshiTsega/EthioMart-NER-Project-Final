{
 "cells": [
  {
   "cell_type": "code",
   "execution_count": 3,
   "id": "e378373f",
   "metadata": {},
   "outputs": [],
   "source": [
    "import pandas as pd\n",
    "import re\n",
    "from nltk.tokenize import word_tokenize\n",
    "import os"
   ]
  },
  {
   "cell_type": "code",
   "execution_count": 5,
   "id": "b7983e06",
   "metadata": {},
   "outputs": [],
   "source": [
    "df = pd.read_excel(r\"C:\\Users\\bless\\OneDrive\\Desktop\\week_4\\EthioMart-NER-Project-Final\\data\\raw\\telegram_data (1).xlsx\")"
   ]
  },
  {
   "cell_type": "code",
   "execution_count": 6,
   "id": "7b875d54",
   "metadata": {},
   "outputs": [],
   "source": [
    "def clean_text(text):\n",
    "    text = re.sub(r\"[^\\u1200-\\u137F\\u1380-\\u139F\\u2D80-\\u2DDF0-9\\s.,!?]\", \"\", text)  \n",
    "    return text.strip()"
   ]
  },
  {
   "cell_type": "code",
   "execution_count": 9,
   "id": "d898fe62",
   "metadata": {},
   "outputs": [],
   "source": [
    "def clean_text(text):\n",
    "    if not isinstance(text, str):\n",
    "        return ''  \n",
    "    text = re.sub(r'[^\\w\\s]', '', text) \n",
    "    text = text.lower()  \n",
    "    return text\n",
    "\n",
    "df['cleaned'] = df['Message'].apply(lambda x: clean_text(x))"
   ]
  },
  {
   "cell_type": "code",
   "execution_count": 10,
   "id": "a8a770a3",
   "metadata": {},
   "outputs": [],
   "source": [
    "df['tokens'] = df['cleaned'].apply(lambda x: word_tokenize(x))"
   ]
  },
  {
   "cell_type": "code",
   "execution_count": 11,
   "id": "077bebad",
   "metadata": {},
   "outputs": [
    {
     "name": "stdout",
     "output_type": "stream",
     "text": [
      "✅ Cleaned & tokenized data saved.\n"
     ]
    }
   ],
   "source": [
    "os.makedirs(\"../data/processed\", exist_ok=True)\n",
    "df[['Channel Username', 'Date', 'cleaned', 'tokens']].to_csv(\"../data/processed/processed_data.csv\", index=False)\n",
    "print(\"✅ Cleaned & tokenized data saved.\")"
   ]
  }
 ],
 "metadata": {
  "kernelspec": {
   "display_name": ".venv",
   "language": "python",
   "name": "python3"
  },
  "language_info": {
   "codemirror_mode": {
    "name": "ipython",
    "version": 3
   },
   "file_extension": ".py",
   "mimetype": "text/x-python",
   "name": "python",
   "nbconvert_exporter": "python",
   "pygments_lexer": "ipython3",
   "version": "3.13.4"
  }
 },
 "nbformat": 4,
 "nbformat_minor": 5
}
