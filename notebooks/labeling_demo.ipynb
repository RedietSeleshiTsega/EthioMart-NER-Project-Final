{
 "cells": [
  {
   "cell_type": "code",
   "execution_count": 1,
   "id": "95a94deb",
   "metadata": {},
   "outputs": [],
   "source": [
    "import pandas as pd\n",
    "import os\n",
    "from nltk.tokenize import word_tokenize"
   ]
  },
  {
   "cell_type": "code",
   "execution_count": 2,
   "id": "90f4a3ab",
   "metadata": {},
   "outputs": [],
   "source": [
    "df = pd.read_csv(r\"C:\\Users\\bless\\OneDrive\\Desktop\\week_4\\EthioMart-NER-Project-Final\\data\\processed\\processed_data.csv\")\n",
    "sampled = df.sample(50)"
   ]
  },
  {
   "cell_type": "code",
   "execution_count": 3,
   "id": "dcb93717",
   "metadata": {},
   "outputs": [],
   "source": [
    "def format_conll(tokens, labels):\n",
    "    lines = []\n",
    "    for t, l in zip(tokens, labels):\n",
    "        lines.append(f\"{t}\\t{l}\")\n",
    "    return \"\\n\".join(lines) + \"\\n\\n\""
   ]
  },
  {
   "cell_type": "code",
   "execution_count": 4,
   "id": "6656f8c5",
   "metadata": {},
   "outputs": [],
   "source": [
    "labeled_sentences = []"
   ]
  },
  {
   "cell_type": "code",
   "execution_count": null,
   "id": "07c9575a",
   "metadata": {},
   "outputs": [
    {
     "name": "stdout",
     "output_type": "stream",
     "text": [
      "የጫማ መደርደሪያ 27 ጥንድ የሚይዝ መደርደሪያው ብረት በቀላሉ የሚገጣጠም የሚነቃቀል ኑሮን የሚያቀል ቦታ የማይዝ ለአጠቃቀም በጣም ቀላል ባለ 9 መደርደሪያ 27 ጫማ የሚይዝ size 6030160cm ዋጋ2600 ብር አድራሻ መገናኛ ታሜ ጋስ ህንፃ ጎን ስሪ ኤም ሲቲ ሞል ሁለተኛ ፎቅ ቢሮ ቁ sl05a ከ ሊፍቱ ፊት ለ ፊት 0909522840 0923350054 በtelegram ለማዘዝ ይጠቀሙ shager_onlinestore ለተጨማሪ ማብራሪያ የቴሌግራም ገፃችን httpstmeshageronlinestore\n",
      "Enter labels for each word in order (B-Product, B-PRICE, B-LOC, etc.)\n"
     ]
    },
    {
     "name": "stdout",
     "output_type": "stream",
     "text": [
      "pancake maker\n",
      "Enter labels for each word in order (B-Product, B-PRICE, B-LOC, etc.)\n",
      "\n",
      "Enter labels for each word in order (B-Product, B-PRICE, B-LOC, etc.)\n",
      "creative 6 layer shoe rack የጫማ ማስቀመጫ ባለ አምስት ደረጃ ቦታ ቆጣቢ ሲዘረጋ 27cm27cm86cm ስፋት ከጠንካራ ፕላስቲክ የተሰራ ገጠማ የማይፈልግ 5 ጥንድ ጫማዎችን ይይዛል ዋጋ 6layer 1600 ብር 4layer 1200ብር ውስን ፍሬ ነው ያለው አድራሻ መገናኛ ስሪ ኤም ሲቲ ሞል ሁለተኛ ፎቅ ቢሮ ቁ sl05aከ ሊፍቱ ፊት ለ ፊት 0909522840 0923350054 በtelegram ለማዘዝ ይጠቀሙ shager_onlinestore ለተጨማሪ ማብራሪያ የቴሌግራም ገፃችን httpstmeshageronlinestore\n",
      "Enter labels for each word in order (B-Product, B-PRICE, B-LOC, etc.)\n",
      "1000ml lunch box high quality የምሳ እቃ የራሱ ፓረቲሽን ያለው ፍራፍሬ ኩኪስ ለመያዝ ምቹ የሆነ በቢሮዎ ውስጥ ለልጆች ትምህርት ቤት ለ ህፃናትም ሆነ ለአዋቂዎች ምቹ ተደርጎ የተዘጋጀ በማንኛዉም ሰአት በማንኛዉም ጊዜ ንፁ ምግብ ይመገቡ ለማጽዳት ቀላል ዋጋ 800 ብር አድራሻ መገናኛ ስሪ ኤም ሲቲ ሞል ሁለተኛ ፎቅ ቢሮ ቁ sl05aከ ሊፍቱ ፊት ለ ፊት 0909522840 0923350054 በtelegram ለማዘዝ ይጠቀሙ shager_onlinestore ለተጨማሪ ማብራሪያ የቴሌግራም ገፃችን httpstmeshageronlinestore\n",
      "Enter labels for each word in order (B-Product, B-PRICE, B-LOC, etc.)\n",
      "food masher and serve bowl set ዋጋ400ብር አድራሻ መገናኛ ስሪ ኤም ሲቲ ሞል ሁለተኛ ፎቅ ቢሮ ቁ sl05aከ ሊፍቱ ፊት ለ ፊት 0909522840 0923350054 በtelegram ለማዘዝ ይጠቀሙ shager_onlinestore ለተጨማሪ ማብራሪያ የቴሌግራም ገፃችን httpstmeshageronlinestore\n",
      "Enter labels for each word in order (B-Product, B-PRICE, B-LOC, etc.)\n",
      "adjustable baby shower cap child kids shampoo bath hat wash hair shield ዋጋ 200 ብር ውስን ፍሬ ነው ያለን limited stock አድራሻ መገናኛ ታሜ ጋስ ህንፃ ጎን ስሪ ኤም ሲቲ ሞል ሁለተኛ ፎቅ ቢሮ ቁ sl05a ከ ሊፍቱ ፊት ለ ፊት 0909522840 0923350054 በtelegram ለማዘዝ ይጠቀሙ shager_onlinestore\n",
      "Enter labels for each word in order (B-Product, B-PRICE, B-LOC, etc.)\n",
      "4pcs cotton flannel receiving baby blankets ዋጋ1100ብር አድራሻ መገናኛ ስሪ ኤም ሲቲ ሞል ሁለተኛ ፎቅ ቢሮ ቁ sl05aከ ሊፍቱ ፊት ለ ፊት 0909522840 0923350054 በtelegram ለማዘዝ ይጠቀሙ shager_onlinestore ለተጨማሪ ማብራሪያ የቴሌግራም ገፃችን httpstmeshageronlinestore\n",
      "Enter labels for each word in order (B-Product, B-PRICE, B-LOC, etc.)\n",
      "top choice garlic press stainless steel material የነጭ ሽንኩርት መጨፍለቂያ ዋጋ500ብር አድራሻ መገናኛ ስሪ ኤም ሲቲ ሞል ሁለተኛ ፎቅ ቢሮ ቁ sl05aከ ሊፍቱ ፊት ለ ፊት 0909522840 0923350054 በtelegram ለማዘዝ ይጠቀሙ shager_onlinestore ለተጨማሪ ማብራሪያ የቴሌግራም ገፃችን httpstmeshageronlinestore\n",
      "Enter labels for each word in order (B-Product, B-PRICE, B-LOC, etc.)\n",
      "\n",
      "Enter labels for each word in order (B-Product, B-PRICE, B-LOC, etc.)\n",
      "spa gel socks ለእግር ልስላሴ ለሚሰነጣጠቅ እግር ድርቀትን የሚያለሰልስ የሚታጠብ በቀን ከ2030 ደቂቃ ብንጠቀመው የእግራችንን ልስላሴ ሙሉ በሙሉ መመለስ ይቻላል ዋጋ 400 ብር ውስን ፍሬ ነው ያለን limited stock አድራሻ መገናኛ ታሜ ጋስ ህንፃ ጎን ስሪ ኤም ሲቲ ሞል ሁለተኛ ፎቅ ቢሮ ቁ sl05sl06 ከ ሊፍቱ ፊት ለ ፊት 0909522840 0923350054 በtelegram ለማዘዝ ይጠቀሙ shager_onlinestore\n",
      "Enter labels for each word in order (B-Product, B-PRICE, B-LOC, etc.)\n",
      "migraine headache relief gel cap 100 natural safe to use comfortable complete 360 degree head coverage onesizefits all formfitting stretchable friendly for families kids your solution to all your headaches color black pink ዋጋ 900 ብር አድራሻ መገናኛ ስሪ ኤም ሲቲ ሞል ሁለተኛ ፎቅ ቢሮ ቁ sl05aከ ሊፍቱ ፊት ለ ፊት 0909522840 0923350054 በtelegram ለማዘዝ ይጠቀሙ shager_onlinestore ለተጨማሪ ማብራሪያ የቴሌግራም ገፃችን httpstmeshageronlinestore\n",
      "Enter labels for each word in order (B-Product, B-PRICE, B-LOC, etc.)\n",
      "\n",
      "Enter labels for each word in order (B-Product, B-PRICE, B-LOC, etc.)\n",
      "\n",
      "Enter labels for each word in order (B-Product, B-PRICE, B-LOC, etc.)\n",
      "fascial gun massager ድብርትየህመም ስሜት እና ድካምን የሚያስወግድ በማሳጅ ማሽኑ ሲታሹ የቫይብሬሽን ሲስተሙ በሰዉነታችን ዉስጥ ቆንጆ የደም ዝውውር እንዲኖር ያረጋል የትከሻ የጀርባ የወገብ እና የእግር ህመም ስሜት ካለብዎት ሁነኛ መፍትሄ በስራ ወይም በስፖርት የዛለ የደከመ ሰውነትን ለማነቃቃት በቀዳሚነት የሚመርጡት 4 የተለያየ ማሳጅ ማድረግያ ያለው ለአያያዝ ምቹ rechargeable መሆኑ ቻርጅ አድርገዉ በየትኛውም ቦታ መጠቀም ይቻላል color black blue ዋጋ2000ብር limited stock አድራሻ መገናኛ ስሪ ኤም ሲቲ ሞል ሁለተኛ ፎቅ ቢሮ ቁ sl05aከ ሊፍቱ ፊት ለ ፊት 0909522840 0923350054 በtelegram ለማዘዝ ይጠቀሙ shager_onlinestore ለተጨማሪ ማብራሪያ የቴሌግራም ገፃችን httpstmeshageronlinestore\n",
      "Enter labels for each word in order (B-Product, B-PRICE, B-LOC, etc.)\n",
      "ሴራሚክ የትኩስ ነገር ማቅረቢያ ለወተት እና ለሻይ ማቅረቢያ የሚሆን 6 መጠጫ የያዘ ማቅረቢያ ወይም ረከቦት ጋር ለራስዎለወዳጅ ዘመድዎ የሚያበረክቱት አስተማማኝ እቃ በተለያየ ቀለም አማራጭ ዋጋ 4900 ብር ውስን ፍሬ ነው ያለው አድራሻ መገናኛ ስሪ ኤም ሲቲ ሞል ሁለተኛ ፎቅ ቢሮ ቁ sl05aከ ሊፍቱ ፊት ለ ፊት 0909522840 0923350054 በtelegram ለማዘዝ ይጠቀሙ shager_onlinestore ለተጨማሪ ማብራሪያ የቴሌግራም ገፃችን httpstmeshageronlinestore\n",
      "Enter labels for each word in order (B-Product, B-PRICE, B-LOC, etc.)\n",
      "\n",
      "Enter labels for each word in order (B-Product, B-PRICE, B-LOC, etc.)\n",
      "\n",
      "Enter labels for each word in order (B-Product, B-PRICE, B-LOC, etc.)\n",
      "handheld electric milk frother multi function use egg beater milk bubble machine blender etc food grade stainless steel safe to use easy to clean builtin battery rechargeable reusable three speed adjustable press the switch button no dead angle rotation package_including 1 x electric handle 1 x double spring whisk 1 x egg beater stick 1 x charging cable 1 x manual ዋጋ750ብር አድራሻ መገናኛ ስሪ ኤም ሲቲ ሞል ሁለተኛ ፎቅ ቢሮ ቁ sl05aከ ሊፍቱ ፊት ለ ፊት 0909522840 0923350054 በtelegram ለማዘዝ ይጠቀሙ shager_onlinestore ለተጨማሪ ማብራሪያ የቴሌግራም ገፃችን httpstmeshageronlinestore\n",
      "Enter labels for each word in order (B-Product, B-PRICE, B-LOC, etc.)\n",
      "\n",
      "Enter labels for each word in order (B-Product, B-PRICE, B-LOC, etc.)\n",
      "wooden double sided calculation abacus helps your kids in learning of numbers association counting addition subtraction and color distinguishing built in the concept of play way method made from durable and smooth wood ዋጋ1200ብር ውስን ፍሬ ነው ያለው አድራሻ መገናኛ ስሪ ኤም ሲቲ ሞል ሁለተኛ ፎቅ ቢሮ ቁ sl05aከ ሊፍቱ ፊት ለ ፊት 0909522840 0923350054 በtelegram ለማዘዝ ይጠቀሙ shager_onlinestore ለተጨማሪ ማብራሪያ የቴሌግራም ገፃችን httpstmeshageronlinestore\n",
      "Enter labels for each word in order (B-Product, B-PRICE, B-LOC, etc.)\n",
      "\n",
      "Enter labels for each word in order (B-Product, B-PRICE, B-LOC, etc.)\n",
      "hair dye brush bottle made of quality plastic material great tool for hair dyeing use easy to mix hair color potion suitable for both professional or home diy use attached with a comb durable and safe to use bottle with scale easy to mix hair color potio ዋጋ 200ብር 150ብር limited stock አድራሻ መገናኛ ታሜ ጋስ ህንፃ ጎን ስሪ ኤም ሲቲ ሞል ሁለተኛ ፎቅ ቢሮ ቁ sl05sl06 ከ ሊፍቱ ፊት ለ ፊት 0909522840 0923350054\n",
      "Enter labels for each word in order (B-Product, B-PRICE, B-LOC, etc.)\n",
      "smooth sailing antigravity water drop humidifier high quality በኤሌክትሪክ የሚሰራ ለቤት መልካም መዓዛን የሚሰጥ specification it had digital clockስዓት መቁጠሪያ ያለው material abssilica gel water capacity 600ml color white interesting design purify the air beautify the environment very effective usb power interface convenient and quick operation can be used anywhere perfect for home office yoga gym and a wonderful gift for friends family or loved ones package_includes 1 x humidifier 1 x usb cable ዋጋ2800ብር አድራሻ መገናኛ ስሪ ኤም ሲቲ ሞል ሁለተኛ ፎቅ ቢሮ ቁ sl05aከ ሊፍቱ ፊት ለ ፊት 0909522840 0923350054 በtelegram ለማዘዝ ይጠቀሙ shager_onlinestore ለተጨማሪ ማብራሪያ የቴሌግራም ገፃችን httpstmeshageronlinestore\n",
      "Enter labels for each word in order (B-Product, B-PRICE, B-LOC, etc.)\n",
      "\n",
      "Enter labels for each word in order (B-Product, B-PRICE, B-LOC, etc.)\n",
      "\n",
      "Enter labels for each word in order (B-Product, B-PRICE, B-LOC, etc.)\n",
      "\n",
      "Enter labels for each word in order (B-Product, B-PRICE, B-LOC, etc.)\n",
      "detangling curling brush ዋጋ 300ብር አድራሻ መገናኛ ስሪ ኤም ሲቲ ሞል ሁለተኛ ፎቅ ቢሮ ቁ sl05aከ ሊፍቱ ፊት ለ ፊት 0909522840 0923350054 በtelegram ለማዘዝ ይጠቀሙ shager_onlinestore ለተጨማሪ ማብራሪያ የቴሌግራም ገፃችን httpstmeshageronlinestore\n",
      "Enter labels for each word in order (B-Product, B-PRICE, B-LOC, etc.)\n",
      "\n",
      "Enter labels for each word in order (B-Product, B-PRICE, B-LOC, etc.)\n",
      "\n",
      "Enter labels for each word in order (B-Product, B-PRICE, B-LOC, etc.)\n",
      "የኮስሞቲክስ ዕቃ ማስቀመጫ ሁሉንም ነገር አንድ ላይ ሰብሰብ አድርጎ ለማስቀመጥ 360 የሚሽከረከር ዋጋ 1300 ብር ውስን ፍሬ ነው ያለው አድራሻ መገናኛ ታሜ ጋስ ህንፃ ጎን ስሪ ኤም ሲቲ ሞል ሁለተኛ ፎቅ ቢሮ ቁ sl05sl06 ከ ሊፍቱ ፊት ለ ፊት 0909522840 0923350054 በtelegram ለማዘዝ ይጠቀሙ shager_onlinestore\n",
      "Enter labels for each word in order (B-Product, B-PRICE, B-LOC, etc.)\n",
      "25l water bottle የውሀ መያዣ የመያዝ አቅም 25l ዋጋ 1000 ብር ውስን ፍሬ ነው ያለው አድራሻ መገናኛ ስሪ ኤም ሲቲ ሞል ሁለተኛ ፎቅ ቢሮ ቁ sl05aከ ሊፍቱ ፊት ለ ፊት 0909522840 0923350054 በtelegram ለማዘዝ ይጠቀሙ shager_onlinestore ለተጨማሪ ማብራሪያ የቴሌግራም ገፃችን httpstmeshageronlinestore\n",
      "Enter labels for each word in order (B-Product, B-PRICE, B-LOC, etc.)\n",
      "\n",
      "Enter labels for each word in order (B-Product, B-PRICE, B-LOC, etc.)\n",
      "saachi 7 in 1 multi snacks maker for donus grill traingle sandwiches nutties biscuits omelette waffles also have non stick changeable plates automatic temperature control ዋጋ 7800birr ዉስን ፍሬ ነው ያለን limited stock አድራሻ መገናኛ ስሪ ኤም ሲቲ ሞል ሁለተኛ ፎቅ ቢሮ ቁ sl05aከ ሊፍቱ ፊት ለ ፊት 0909522840 0923350054 በtelegram ለማዘዝ ይጠቀሙ shager_onlinestore ለተጨማሪ ማብራሪያ የቴሌግራም ገፃችን httpstmeshageronlinestore\n",
      "Enter labels for each word in order (B-Product, B-PRICE, B-LOC, etc.)\n",
      "\n",
      "Enter labels for each word in order (B-Product, B-PRICE, B-LOC, etc.)\n",
      "\n",
      "Enter labels for each word in order (B-Product, B-PRICE, B-LOC, etc.)\n",
      "smiley face non stick pancake pan granite coated pan 100 የማይዝ በአንድ ግዜ 7 ኬክ ይጋግራል ዋጋ 1800 ብር ውስን ፍሬ ነው ያለን limited stock አድራሻ መገናኛ ስሪ ኤም ሲቲ ሞል ሁለተኛ ፎቅ ቢሮ ቁ sl05aከ ሊፍቱ ፊት ለ ፊት 0909522840 0923350054 በtelegram ለማዘዝ ይጠቀሙ shager_onlinestore ለተጨማሪ ማብራሪያ የቴሌግራም ገፃችን httpstmeshageronlinestore\n",
      "Enter labels for each word in order (B-Product, B-PRICE, B-LOC, etc.)\n",
      "\n",
      "Enter labels for each word in order (B-Product, B-PRICE, B-LOC, etc.)\n",
      "\n",
      "Enter labels for each word in order (B-Product, B-PRICE, B-LOC, etc.)\n",
      "\n",
      "Enter labels for each word in order (B-Product, B-PRICE, B-LOC, etc.)\n",
      "\n",
      "Enter labels for each word in order (B-Product, B-PRICE, B-LOC, etc.)\n",
      "wooden peper grinder spice container ለቅመማ ቅመም መፍጫ እና መነስነሻ ዋጋ 550 ብር አድራሻ መገናኛ ስሪ ኤም ሲቲ ሞል ሁለተኛ ፎቅ ቢሮ ቁ sl05aከ ሊፍቱ ፊት ለ ፊት 0909522840 0923350054 በtelegram ለማዘዝ ይጠቀሙ shager_onlinestore ለተጨማሪ ማብራሪያ የቴሌግራም ገፃችን httpstmeshageronlinestore\n",
      "Enter labels for each word in order (B-Product, B-PRICE, B-LOC, etc.)\n",
      "automatic rebound healthy abdomen wheel automatic rebound abdominal wheel for core trainer workout ab workout equipment with elbow support home abdominal exercise machine and plank roller in one reliable durable easy comfortable easy to use vast application excellent gift alternative ዋጋ 2500 ብር ውስን ፍሬ ነው ያለው አድራሻ መገናኛ ስሪ ኤም ሲቲ ሞል ሁለተኛ ፎቅ ቢሮ ቁ sl05aከ ሊፍቱ ፊት ለ ፊት 0909522840 0923350054 በtelegram ለማዘዝ ይጠቀሙ shager_onlinestore ለተጨማሪ ማብራሪያ የቴሌግራም ገፃችን httpstmeshageronlinestore\n",
      "Enter labels for each word in order (B-Product, B-PRICE, B-LOC, etc.)\n",
      "astronaut nebula projector light የራሱ ሪሞት ያለው ለ ቪዲዮ ለሳሎን ለመኝታ ክፍል የተለየን ድባብ የሚፈጥር ለልጆች ክፍል ተመራጭ ለቀጥታ ስርጭት የተለያዬ ቀልብን የሚስቡ መብራት ያለዉ ዋጋ ትልቁ 2000ብር ያለን ብዛት ውስን ነው ፈጥነው ይሸምቱ አድራሻ መገናኛ ስሪ ኤም ሲቲ ሞል ሁለተኛ ፎቅ ቢሮ ቁ sl05aከ ሊፍቱ ፊት ለ ፊት 0909522840 0923350054 በtelegram ለማዘዝ ይጠቀሙ shager_onlinestore ለተጨማሪ ማብራሪያ የቴሌግራም ገፃችን httpstmeshageronlinestore\n",
      "Enter labels for each word in order (B-Product, B-PRICE, B-LOC, etc.)\n",
      "electronic kitchen scale equipped with a high precision strain gauge sensor system lcd display model sf400 ዋጋ 750 ብር አድራሻ መገናኛ ስሪ ኤም ሲቲ ሞል ሁለተኛ ፎቅ ቢሮ ቁ sl05aከ ሊፍቱ ፊት ለ ፊት 0909522840 0923350054 በtelegram ለማዘዝ ይጠቀሙ shager_onlinestore ለተጨማሪ ማብራሪያ የቴሌግራም ገፃችን httpstmeshageronlinestore\n",
      "Enter labels for each word in order (B-Product, B-PRICE, B-LOC, etc.)\n",
      "1l water bottle high quality 1l water time scale reminder outdoor sports and fitness motivational designgives you motivation reminds you to stay hydrated and drink enough water throughout the day convenient to carry ዋጋ 600ብር አድራሻ መገናኛ ስሪ ኤም ሲቲ ሞል ሁለተኛ ፎቅ ቢሮ ቁ sl05aከ ሊፍቱ ፊት ለ ፊት 0909522840 0923350054 በtelegram ለማዘዝ ይጠቀሙ shager_onlinestore ለተጨማሪ ማብራሪያ የቴሌግራም ገፃችን httpstmeshageronlinestore\n",
      "Enter labels for each word in order (B-Product, B-PRICE, B-LOC, etc.)\n",
      "1pc heart shaped silicon waffle mold 230c ድረስ ሙቀትን መቆቆም የሚችል ደጋግመው የሚጠቀሙት እና የማይዝ ሲልከን ማቴሪያል ኦቨን ውስጥ ማስገባት የምንችለው ዋጋ350ብር አድራሻ መገናኛ ስሪ ኤም ሲቲ ሞል ሁለተኛ ፎቅ ቢሮ ቁ sl05aከ ሊፍቱ ፊት ለ ፊት 0909522840 0923350054 በtelegram ለማዘዝ ይጠቀሙ shager_onlinestore ለተጨማሪ ማብራሪያ የቴሌግራም ገፃችን httpstmeshageronlinestore\n",
      "Enter labels for each word in order (B-Product, B-PRICE, B-LOC, etc.)\n",
      "momcoc fry pan የሴራሚክ መጥበሻ suitable for dishwashers suitable for gas and electric kitchens for all types of kitchen double layer antiadhernte for uniform cookingproffessional quality ergonomic soft touch handle size 24cm 26cm 28cm ዋጋ 24cm 1200ብር 26cm 1400ብር 28cm 1600ብር ሶስቱን በአንድ ላይ 3800 ብር ውስን ፍሬ ነው ያለው አድራሻ ቁ1 መገናኛ ስሪ ኤም ሲቲ ሞል ሁለተኛ ፎቅ ቢሮ ቁ sl05aከ ሊፍቱ ፊት ለ ፊት ቁ2 ለቡ መዳህኒዓለም ቤተክርስቲያን ፊት ለፊት ዛም_ሞል 2ኛ ፎቅ ቢሮ ቁጥር214 ለቡ ቅርንጫፍ0971611819 0909522840 0923350054 በtelegram ለማዘዝ ይጠቀሙ shager_onlinestore ለተጨማሪ ማብራሪያ የቴሌግራም ገፃችን httpstmeshageronlinestore\n",
      "Enter labels for each word in order (B-Product, B-PRICE, B-LOC, etc.)\n",
      "\n",
      "Enter labels for each word in order (B-Product, B-PRICE, B-LOC, etc.)\n",
      "\n",
      "Enter labels for each word in order (B-Product, B-PRICE, B-LOC, etc.)\n"
     ]
    }
   ],
   "source": [
    "for _, row in sampled.iterrows():\n",
    "    tokens = row['tokens'].strip(\"[]\").replace(\"'\", \"\").split(\", \")\n",
    "    print(\" \".join(tokens))\n",
    "    print(\"Enter labels for each word in order (B-Product, B-PRICE, B-LOC, etc.)\")\n",
    "    labels = []\n",
    "    for token in tokens:\n",
    "        label = input(f\"{token}: \")\n",
    "        labels.append(label if label else \"O\")\n",
    "    labeled_sentences.append(format_conll(tokens, labels))\n",
    "    "
   ]
  },
  {
   "cell_type": "code",
   "execution_count": 6,
   "id": "24791f04",
   "metadata": {},
   "outputs": [
    {
     "name": "stdout",
     "output_type": "stream",
     "text": [
      "✅ CoNLL labeled file saved.\n"
     ]
    }
   ],
   "source": [
    "with open(\"../data/labeled/conll_labeled_data.txt\", \"w\", encoding=\"utf-8\") as f:\n",
    "    for sentence in labeled_sentences:\n",
    "        f.write(sentence)\n",
    "\n",
    "print(\"✅ CoNLL labeled file saved.\")"
   ]
  }
 ],
 "metadata": {
  "kernelspec": {
   "display_name": ".venv",
   "language": "python",
   "name": "python3"
  },
  "language_info": {
   "codemirror_mode": {
    "name": "ipython",
    "version": 3
   },
   "file_extension": ".py",
   "mimetype": "text/x-python",
   "name": "python",
   "nbconvert_exporter": "python",
   "pygments_lexer": "ipython3",
   "version": "3.13.4"
  }
 },
 "nbformat": 4,
 "nbformat_minor": 5
}
